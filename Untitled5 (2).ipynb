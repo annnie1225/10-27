{
  "nbformat": 4,
  "nbformat_minor": 0,
  "metadata": {
    "colab": {
      "provenance": []
    },
    "kernelspec": {
      "name": "python3",
      "display_name": "Python 3"
    },
    "language_info": {
      "name": "python"
    }
  },
  "cells": [
    {
      "cell_type": "code",
      "execution_count": 2,
      "metadata": {
        "colab": {
          "base_uri": "https://localhost:8080/"
        },
        "id": "sdJZrhbTA_J9",
        "outputId": "e90c4d9f-ed0a-4e8b-9005-86d0d38a2a5a"
      },
      "outputs": [
        {
          "output_type": "stream",
          "name": "stdout",
          "text": [
            "輸入範圍3\n",
            "1x1=1\n",
            "1x2=2\n",
            "1x3=3\n",
            "2x1=2\n",
            "2x2=4\n",
            "2x3=6\n",
            "3x1=3\n",
            "3x2=6\n",
            "3x3=9\n"
          ]
        }
      ],
      "source": [
        "number= int(input(\"輸入範圍\"))\n",
        "for i in range(1, number+1):\n",
        "    for j in range(1, number+1):\n",
        "       print(f\"{i}x{j}={i*j}\")\n"
      ]
    },
    {
      "cell_type": "code",
      "source": [
        "import random\n",
        "targetnumber= random.randi9nt(1, 100)\n",
        "print(\"歡迎來到猜數字遊戲!\")\n",
        "\n",
        "ans=0\n",
        "while  ans==0:\n",
        "     guess=int(input(\"你的猜測是?\"))\n",
        "     if guess > targetnumber:\n",
        "       print(\"低一點\")\n",
        "     elif guess < targetnumber:\n",
        "       print(\"高一點\")\n",
        "     else:\n",
        "       print(f\"guess right!The answer is [targetnumber]\")\n",
        "       ans=1\n",
        "print(\"遊戲結束\")"
      ],
      "metadata": {
        "colab": {
          "base_uri": "https://localhost:8080/"
        },
        "id": "pRD7RrEfHbVn",
        "outputId": "35caa21e-a049-4800-ed46-2901d15378f6"
      },
      "execution_count": 14,
      "outputs": [
        {
          "output_type": "stream",
          "name": "stdout",
          "text": [
            "歡迎來到猜數字遊戲!\n",
            "你的猜測是?40\n",
            "高一點\n",
            "你的猜測是?49\n",
            "高一點\n",
            "你的猜測是?90\n",
            "低一點\n",
            "你的猜測是?81\n",
            "低一點\n",
            "你的猜測是?70\n",
            "低一點\n",
            "你的猜測是?60\n",
            "高一點\n",
            "你的猜測是?49\n",
            "高一點\n",
            "你的猜測是?53\n",
            "高一點\n",
            "你的猜測是?58\n",
            "高一點\n",
            "你的猜測是?59\n",
            "高一點\n",
            "你的猜測是?65\n",
            "guess right!The answer is [targetnumber]\n",
            "遊戲結束\n"
          ]
        }
      ]
    }
  ]
}